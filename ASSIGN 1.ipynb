{
 "cells": [
  {
   "cell_type": "code",
   "execution_count": 11,
   "metadata": {},
   "outputs": [],
   "source": [
    "import numpy as np"
   ]
  },
  {
   "cell_type": "markdown",
   "metadata": {},
   "source": [
    "### 1. Create a 4x4 matrix with values ranging from 0 to 3.\n",
    "(The following image is just as an example. It doesn't represent the real image of arrays in the question)\n",
    "![](image/assignment2.png)"
   ]
  },
  {
   "cell_type": "code",
   "execution_count": 22,
   "metadata": {},
   "outputs": [
    {
     "data": {
      "text/plain": [
       "array([[0., 1., 2., 3.],\n",
       "       [0., 1., 2., 3.],\n",
       "       [0., 1., 2., 3.],\n",
       "       [0., 1., 2., 3.]])"
      ]
     },
     "execution_count": 22,
     "metadata": {},
     "output_type": "execute_result"
    }
   ],
   "source": [
    "arr=np.zeros((4,4))\n",
    "arr[1]=1\n",
    "arr[2]=2\n",
    "arr[3]=3\n",
    "arr.T"
   ]
  },
  {
   "cell_type": "markdown",
   "metadata": {},
   "source": [
    "### 2. Create and array with shape of 4x4 and turn it into two arrays along the second axis![](image/assignment.png)"
   ]
  },
  {
   "cell_type": "code",
   "execution_count": 27,
   "metadata": {},
   "outputs": [
    {
     "data": {
      "text/plain": [
       "[array([[ 0,  1],\n",
       "        [ 4,  5],\n",
       "        [ 8,  9],\n",
       "        [12, 13]]),\n",
       " array([[ 2,  3],\n",
       "        [ 6,  7],\n",
       "        [10, 11],\n",
       "        [14, 15]])]"
      ]
     },
     "execution_count": 27,
     "metadata": {},
     "output_type": "execute_result"
    }
   ],
   "source": [
    "ar = np.array([[0, 1, 2, 3],\n",
    "                [4, 5, 6, 7],\n",
    "                [8, 9, 10, 11],\n",
    "                [12, 13, 14, 15]])\n",
    "ar1 = np.hsplit(ar,2)\n",
    "ar1"
   ]
  },
  {
   "cell_type": "markdown",
   "metadata": {},
   "source": [
    "####  3. soal tambahan:\n",
    "\n",
    "misalkan kita memiliki data array seperti berikut ini :\n",
    "\n",
    "array([[ 1,  2,  3,  4,  5],\n",
    "       [ 6,  7,  8,  9, 10],\n",
    "       [11, 12, 13, 14, 15],\n",
    "       [16, 17, 18, 19, 20],\n",
    "       [21, 22, 23, 24, 25]])\n",
    "       \n",
    "tuliskan proses filtering untuk mendapatkan hanya elemen data yang berupa bilangan prima ? \n",
    "\n",
    "jika dilihat dari data, output yang diinginkan : 2, 3, 7, 11, 13, 17, 19, 23"
   ]
  },
  {
   "cell_type": "code",
   "execution_count": 88,
   "metadata": {},
   "outputs": [
    {
     "data": {
      "text/plain": [
       "array([ 2,  3,  5,  7, 11, 13, 17, 19, 23])"
      ]
     },
     "execution_count": 88,
     "metadata": {},
     "output_type": "execute_result"
    }
   ],
   "source": [
    "import math\n",
    "\n",
    "def is_prime(n):\n",
    "    if n % 2 == 0 and n > 2 : \n",
    "        return False\n",
    "    return all(n % i for i in range(3, int(math.sqrt(n)) + 1, 2))\n",
    "\n",
    "a= np.array([[ 1, 2, 3, 4, 5], [ 6, 7, 8, 9, 10], \n",
    "             [11, 12, 13, 14, 15], [16, 17, 18, 19, 20], [21, 22, 23, 24, 25]])\n",
    "a=a.reshape(1,25)\n",
    "a=a.ravel()\n",
    "index=[0]\n",
    "an=np.delete(a,index)\n",
    "foo = np.vectorize(is_prime)\n",
    "pbools = foo(an)\n",
    "primes = np.extract(pbools, an)\n",
    "primes\n",
    "    "
   ]
  }
 ],
 "metadata": {
  "kernelspec": {
   "display_name": "Python 3",
   "language": "python",
   "name": "python3"
  },
  "language_info": {
   "codemirror_mode": {
    "name": "ipython",
    "version": 3
   },
   "file_extension": ".py",
   "mimetype": "text/x-python",
   "name": "python",
   "nbconvert_exporter": "python",
   "pygments_lexer": "ipython3",
   "version": "3.8.5"
  }
 },
 "nbformat": 4,
 "nbformat_minor": 4
}
